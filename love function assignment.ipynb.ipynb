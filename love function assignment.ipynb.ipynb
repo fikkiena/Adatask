{
 "cells": [
  {
   "cell_type": "markdown",
   "id": "e15956fb",
   "metadata": {},
   "source": [
    "#####ASK There are 5 requirements to have a romantic partner; singleness, maturity, intelligence, trust, love All these requirements can take any numerical value between 1 and 10 except for singleness which can only be 1 Write a function, love that requires a user to input numerical values of singleness, maturity, intelligence, trust, love scores. Mind you that all requirements must have at least a numerical value of 1 but to be eligible for a romantic relationship, a person needs a total score of 21 Your function outputs, “Congrats! You are closer to your desired romantic relationship” when a person has a score of at least 21\n",
    "\n",
    "Requirements: Your code must require the user to input their scores as numbers only and return, “Kindly input a number between 1 and 10\" when a type, number is not entered by the user If a user inputs a number > or < 1 for singleness, your code should return, “Kindly input the number 1 here” Your function should contain at least one type"
   ]
  },
  {
   "cell_type": "code",
   "execution_count": 1,
   "id": "851a1ef4",
   "metadata": {},
   "outputs": [],
   "source": [
    "def nlove(singleness, maturity, intelligence, trust, love):\n",
    "    # check if all inputs are numeric\n",
    "    if not all(isinstance(val, (int, float)) for val in [singleness, maturity, intelligence, trust, love]):\n",
    "        return \"Kindly input a number between 1 and 10\"\n",
    "    \n",
    "    # check if singleness is equal to 1\n",
    "    if singleness != 1:\n",
    "        return \"Kindly input the number 1 here\"\n",
    "    \n",
    "    # calculate the total score\n",
    "    total_score = maturity + intelligence + trust + love\n",
    "    \n",
    "    # check if the total score is greater than or equal to 21\n",
    "    if total_score >= 21:\n",
    "        return \"Congrats! You are closer to your desired romantic relationship\"\n",
    "    \n",
    "    # if the total score is less than 21, return nothing\n",
    "    return\n"
   ]
  },
  {
   "cell_type": "code",
   "execution_count": 2,
   "id": "ee7c3f59",
   "metadata": {},
   "outputs": [
    {
     "name": "stdout",
     "output_type": "stream",
     "text": [
      "enter the value for singleness1\n"
     ]
    }
   ],
   "source": [
    "singleness = int(input(\"enter the value for singleness\"))"
   ]
  },
  {
   "cell_type": "code",
   "execution_count": 3,
   "id": "600f5ba4",
   "metadata": {},
   "outputs": [
    {
     "name": "stdout",
     "output_type": "stream",
     "text": [
      "enter the value for maturity5\n"
     ]
    }
   ],
   "source": [
    "maturity = int(input(\"enter the value for maturity\"))"
   ]
  },
  {
   "cell_type": "code",
   "execution_count": 4,
   "id": "a82cb5f1",
   "metadata": {},
   "outputs": [
    {
     "name": "stdout",
     "output_type": "stream",
     "text": [
      "enter the value for intelligence6\n"
     ]
    }
   ],
   "source": [
    "intelligence = int(input(\"enter the value for intelligence\"))"
   ]
  },
  {
   "cell_type": "code",
   "execution_count": 5,
   "id": "0cb0eba7",
   "metadata": {},
   "outputs": [
    {
     "name": "stdout",
     "output_type": "stream",
     "text": [
      "enter the value for trust8\n"
     ]
    }
   ],
   "source": [
    "trust = int(input(\"enter the value for trust\"))\n",
    "\n"
   ]
  },
  {
   "cell_type": "code",
   "execution_count": 6,
   "id": "f8454ebc",
   "metadata": {},
   "outputs": [
    {
     "name": "stdout",
     "output_type": "stream",
     "text": [
      "enter the value for love8\n"
     ]
    }
   ],
   "source": [
    "love = int(input(\"enter the value for love\"))\n"
   ]
  },
  {
   "cell_type": "code",
   "execution_count": 7,
   "id": "3e858380",
   "metadata": {},
   "outputs": [
    {
     "data": {
      "text/plain": [
       "'Congrats! You are closer to your desired romantic relationship'"
      ]
     },
     "execution_count": 7,
     "metadata": {},
     "output_type": "execute_result"
    }
   ],
   "source": [
    "nlove(singleness, maturity, intelligence, trust, love)"
   ]
  },
  {
   "cell_type": "code",
   "execution_count": null,
   "id": "3460de7c",
   "metadata": {},
   "outputs": [],
   "source": []
  }
 ],
 "metadata": {
  "kernelspec": {
   "display_name": "Python 3 (ipykernel)",
   "language": "python",
   "name": "python3"
  },
  "language_info": {
   "codemirror_mode": {
    "name": "ipython",
    "version": 3
   },
   "file_extension": ".py",
   "mimetype": "text/x-python",
   "name": "python",
   "nbconvert_exporter": "python",
   "pygments_lexer": "ipython3",
   "version": "3.9.16"
  }
 },
 "nbformat": 4,
 "nbformat_minor": 5
}
